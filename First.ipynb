{
 "cells": [
  {
   "cell_type": "code",
   "execution_count": 1,
   "id": "d2b54899-c61d-4295-afe1-5e1550877e48",
   "metadata": {},
   "outputs": [
    {
     "name": "stdout",
     "output_type": "stream",
     "text": [
      "Member1이 작업\n"
     ]
    }
   ],
   "source": [
    "print('Member1이 작업')"
   ]
  },
  {
   "cell_type": "code",
   "execution_count": null,
   "id": "e5f23f97-bf54-41d7-93fd-d6eb50c3ac3d",
   "metadata": {},
   "outputs": [],
   "source": [
    "print('Member1이 또 작업함')"
   ]
  },
  {
   "cell_type": "code",
   "execution_count": null,
   "id": "1aa92900-a2b8-494e-accc-5b8a81105b5e",
   "metadata": {},
   "outputs": [],
   "source": [
    "print('merge')"
   ]
  }
 ],
 "metadata": {
  "kernelspec": {
   "display_name": "Python 3 (ipykernel)",
   "language": "python",
   "name": "python3"
  },
  "language_info": {
   "codemirror_mode": {
    "name": "ipython",
    "version": 3
   },
   "file_extension": ".py",
   "mimetype": "text/x-python",
   "name": "python",
   "nbconvert_exporter": "python",
   "pygments_lexer": "ipython3",
   "version": "3.11.5"
  }
 },
 "nbformat": 4,
 "nbformat_minor": 5
}
