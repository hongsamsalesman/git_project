print('Member1이 작업')


print('Member1이 또 작업함')


print('브랜치에서 작업함')
