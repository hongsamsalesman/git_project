print('Member1이 작업')


print('Member1이 또 작업함')
