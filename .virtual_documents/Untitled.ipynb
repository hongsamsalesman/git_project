print('Member1이 작업')
